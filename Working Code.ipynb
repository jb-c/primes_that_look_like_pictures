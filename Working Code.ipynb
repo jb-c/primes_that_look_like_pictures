{
 "cells": [
  {
   "cell_type": "code",
   "execution_count": 18,
   "id": "4e6a75ae",
   "metadata": {},
   "outputs": [],
   "source": [
    "from main import main\n",
    "import random\n",
    "import numpy as np\n",
    "import matplotlib.pyplot as plt\n",
    "from tqdm import tqdm\n",
    "from gmpy2 import is_euler_prp,is_fermat_prp,is_strong_prp"
   ]
  },
  {
   "cell_type": "markdown",
   "id": "8fffe823",
   "metadata": {},
   "source": [
    "## Sieve Checks"
   ]
  },
  {
   "cell_type": "code",
   "execution_count": 2,
   "id": "dc617026",
   "metadata": {},
   "outputs": [
    {
     "name": "stdout",
     "output_type": "stream",
     "text": [
      "0. Program started.\n",
      "1. Computed base number mod p. We are using 1229 primes.\n",
      "3. Ready to start primality testing. \n",
      "\t Time Elapsed = 0.06 mins\n"
     ]
    }
   ],
   "source": [
    "candidates = main(K = 2, big_P = 10000)\n",
    "candidates = candidates[:5_000]"
   ]
  },
  {
   "cell_type": "markdown",
   "id": "e822077a",
   "metadata": {},
   "source": [
    "## Fermat Primality Test"
   ]
  },
  {
   "cell_type": "code",
   "execution_count": 20,
   "id": "5ca28331",
   "metadata": {},
   "outputs": [],
   "source": [
    "a = np.array([random.randrange(2, n - 1) for n in candidates])"
   ]
  },
  {
   "cell_type": "raw",
   "id": "0a3832ab",
   "metadata": {},
   "source": [
    "%%time\n",
    "x = [pow(ai,n-1,n) for ai,n in tqdm(zip(a,candidates))]"
   ]
  },
  {
   "cell_type": "code",
   "execution_count": 17,
   "id": "5525c5d7",
   "metadata": {},
   "outputs": [
    {
     "name": "stdout",
     "output_type": "stream",
     "text": [
      "Wall time: 13min 14s\n"
     ]
    }
   ],
   "source": [
    "%%time\n",
    "a = is_prp(candidates[:200],a[:200])"
   ]
  },
  {
   "cell_type": "code",
   "execution_count": 15,
   "id": "e5277b61",
   "metadata": {},
   "outputs": [],
   "source": [
    "is_prp = np.vectorize(is_euler_prp)"
   ]
  },
  {
   "cell_type": "code",
   "execution_count": null,
   "id": "63a57569",
   "metadata": {},
   "outputs": [],
   "source": []
  }
 ],
 "metadata": {
  "kernelspec": {
   "display_name": "Python 3 (ipykernel)",
   "language": "python",
   "name": "python3"
  },
  "language_info": {
   "codemirror_mode": {
    "name": "ipython",
    "version": 3
   },
   "file_extension": ".py",
   "mimetype": "text/x-python",
   "name": "python",
   "nbconvert_exporter": "python",
   "pygments_lexer": "ipython3",
   "version": "3.9.7"
  }
 },
 "nbformat": 4,
 "nbformat_minor": 5
}
