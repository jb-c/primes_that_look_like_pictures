{
 "cells": [
  {
   "cell_type": "code",
   "execution_count": 3,
   "id": "4e6a75ae",
   "metadata": {},
   "outputs": [],
   "source": [
    "from primes import primes,compute_ten_to_the_a_mod_p\n",
    "import pickle"
   ]
  },
  {
   "cell_type": "code",
   "execution_count": 1,
   "id": "a6b74873",
   "metadata": {},
   "outputs": [],
   "source": [
    "with open('data/ten_to_the_a_mod_p.pickle', 'rb') as fp:\n",
    "    ten_to_the_a_mod_p = pickle.load(fp)"
   ]
  },
  {
   "cell_type": "code",
   "execution_count": 2,
   "id": "23529a9d",
   "metadata": {},
   "outputs": [
    {
     "data": {
      "text/plain": [
       "(10000, 13)"
      ]
     },
     "execution_count": 2,
     "metadata": {},
     "output_type": "execute_result"
    }
   ],
   "source": [
    "ten_to_the_a_mod_p.shape"
   ]
  },
  {
   "cell_type": "code",
   "execution_count": 4,
   "id": "e2e6e66d",
   "metadata": {},
   "outputs": [
    {
     "data": {
      "text/plain": [
       "50000000"
      ]
     },
     "execution_count": 4,
     "metadata": {},
     "output_type": "execute_result"
    }
   ],
   "source": [
    "len(primes)"
   ]
  },
  {
   "cell_type": "code",
   "execution_count": 5,
   "id": "d9c0742a",
   "metadata": {},
   "outputs": [
    {
     "data": {
      "text/plain": [
       "50000000"
      ]
     },
     "execution_count": 5,
     "metadata": {},
     "output_type": "execute_result"
    }
   ],
   "source": [
    "50_000_000"
   ]
  },
  {
   "cell_type": "code",
   "execution_count": null,
   "id": "98193f5b",
   "metadata": {},
   "outputs": [],
   "source": []
  }
 ],
 "metadata": {
  "kernelspec": {
   "display_name": "Python 3 (ipykernel)",
   "language": "python",
   "name": "python3"
  },
  "language_info": {
   "codemirror_mode": {
    "name": "ipython",
    "version": 3
   },
   "file_extension": ".py",
   "mimetype": "text/x-python",
   "name": "python",
   "nbconvert_exporter": "python",
   "pygments_lexer": "ipython3",
   "version": "3.9.7"
  }
 },
 "nbformat": 4,
 "nbformat_minor": 5
}
