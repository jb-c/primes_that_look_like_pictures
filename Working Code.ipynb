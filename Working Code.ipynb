{
 "cells": [
  {
   "cell_type": "code",
   "execution_count": 1,
   "id": "4e6a75ae",
   "metadata": {},
   "outputs": [],
   "source": [
    "from main import main\n",
    "import numpy as np\n",
    "import matplotlib.pyplot as plt"
   ]
  },
  {
   "cell_type": "markdown",
   "id": "8fffe823",
   "metadata": {},
   "source": [
    "## Sieve Checks"
   ]
  },
  {
   "cell_type": "code",
   "execution_count": 2,
   "id": "dc617026",
   "metadata": {},
   "outputs": [
    {
     "name": "stdout",
     "output_type": "stream",
     "text": [
      "0. Program started.\n",
      "1. Computed base number mod p. We are using 168 primes.\n"
     ]
    },
    {
     "name": "stderr",
     "output_type": "stream",
     "text": [
      "Sieve Checks: 100%|███████████████████████████████████████████████████████████████| 8539/8539 [00:16<00:00, 532.52it/s]"
     ]
    },
    {
     "name": "stdout",
     "output_type": "stream",
     "text": [
      "2. Completed initial sieve checks. We have 170709 candidates. \n",
      "\t Time Elapsed = 0.27 mins\n"
     ]
    },
    {
     "name": "stderr",
     "output_type": "stream",
     "text": [
      "\n"
     ]
    }
   ],
   "source": [
    "base_number, tuples_to_check = main(K = 2, big_P = 1_000)"
   ]
  },
  {
   "cell_type": "code",
   "execution_count": null,
   "id": "4fefa14f",
   "metadata": {},
   "outputs": [],
   "source": []
  }
 ],
 "metadata": {
  "kernelspec": {
   "display_name": "Python 3 (ipykernel)",
   "language": "python",
   "name": "python3"
  },
  "language_info": {
   "codemirror_mode": {
    "name": "ipython",
    "version": 3
   },
   "file_extension": ".py",
   "mimetype": "text/x-python",
   "name": "python",
   "nbconvert_exporter": "python",
   "pygments_lexer": "ipython3",
   "version": "3.9.7"
  }
 },
 "nbformat": 4,
 "nbformat_minor": 5
}
